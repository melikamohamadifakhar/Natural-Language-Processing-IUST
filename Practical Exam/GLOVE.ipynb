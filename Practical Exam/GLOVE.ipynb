{
  "cells": [
    {
      "cell_type": "code",
      "execution_count": 1,
      "metadata": {
        "id": "dkSKfF3szkCF",
        "colab": {
          "base_uri": "https://localhost:8080/"
        },
        "outputId": "1f9c0032-6e39-470d-dca5-bc095547796d"
      },
      "outputs": [
        {
          "output_type": "stream",
          "name": "stdout",
          "text": [
            "[==================================================] 100.0% 252.1/252.1MB downloaded\n"
          ]
        }
      ],
      "source": [
        "import gensim.downloader as api\n",
        "wv_from_bin = api.load(\"glove-wiki-gigaword-200\")"
      ]
    },
    {
      "cell_type": "markdown",
      "metadata": {
        "id": "juRI9id25xP5"
      },
      "source": [
        "### <font color=\"red\"> Using analogies, go from 'studnet' to 'book' </font>"
      ]
    },
    {
      "cell_type": "markdown",
      "metadata": {
        "id": "sCqQv-G-6OpH"
      },
      "source": [
        "#### Hint: King - Man + Woman = Queen"
      ]
    },
    {
      "cell_type": "code",
      "execution_count": 4,
      "metadata": {
        "id": "kx2za4QrzyBW",
        "colab": {
          "base_uri": "https://localhost:8080/"
        },
        "outputId": "ea274f37-6cae-45a1-c6fc-ad848c515ee5"
      },
      "outputs": [
        {
          "output_type": "execute_result",
          "data": {
            "text/plain": [
              "[('books', 0.5464881658554077),\n",
              " ('author', 0.5400755405426025),\n",
              " ('essay', 0.48104068636894226),\n",
              " ('teacher', 0.47474491596221924),\n",
              " ('students', 0.4590005874633789),\n",
              " ('university', 0.4534100890159607),\n",
              " ('college', 0.44875526428222656),\n",
              " ('essays', 0.4453602731227875),\n",
              " ('illustrated', 0.44373446702957153),\n",
              " ('yale', 0.4436791241168976)]"
            ]
          },
          "metadata": {},
          "execution_count": 4
        }
      ],
      "source": [
        "res = wv_from_bin.most_similar(positive=[\"student\", \"book\"], negative=[\"work\"])\n",
        "res"
      ]
    },
    {
      "cell_type": "markdown",
      "metadata": {
        "id": "7ukjHwjI6ZbJ"
      },
      "source": [
        "### <font color=\"red\"> Using analogies, find some gender biases learned by model from corpus regarding 'job'</font>"
      ]
    },
    {
      "cell_type": "markdown",
      "metadata": {
        "id": "mE2NIj8ycz7x"
      },
      "source": [
        "#### Hint: Which jobs assigned to women and which jobs assigned to men?"
      ]
    },
    {
      "cell_type": "code",
      "execution_count": 7,
      "metadata": {
        "id": "spnOqmU34GRA",
        "colab": {
          "base_uri": "https://localhost:8080/"
        },
        "outputId": "0b1a49e5-fae6-486e-8e8a-d5bcbbc6c43e"
      },
      "outputs": [
        {
          "output_type": "stream",
          "name": "stdout",
          "text": [
            "[('university', 0.6409292817115784),\n",
            " ('harvard', 0.6061656475067139),\n",
            " ('emeritus', 0.5935671925544739),\n",
            " ('scientist', 0.580814003944397),\n",
            " ('science', 0.5772112607955933),\n",
            " ('economics', 0.5741971731185913),\n",
            " ('prof.', 0.5630016922950745),\n",
            " ('sociology', 0.5622298121452332),\n",
            " ('associate', 0.5617411136627197),\n",
            " ('physics', 0.5514646768569946)]\n"
          ]
        }
      ],
      "source": [
        "import pprint\n",
        "pprint.pprint(wv_from_bin.most_similar(positive=[\"man\", \"professor\"], negative=[\"woman\"]))"
      ]
    },
    {
      "cell_type": "code",
      "source": [
        "pprint.pprint(wv_from_bin.most_similar(positive=[\"man\", \"professor\"], negative=[\"woman\"]))"
      ],
      "metadata": {
        "colab": {
          "base_uri": "https://localhost:8080/"
        },
        "id": "8uxTsJhHcx2U",
        "outputId": "eb16dd0e-60b6-487b-9fb1-44f52272f267"
      },
      "execution_count": 8,
      "outputs": [
        {
          "output_type": "stream",
          "name": "stdout",
          "text": [
            "[('university', 0.6409292817115784),\n",
            " ('harvard', 0.6061656475067139),\n",
            " ('emeritus', 0.5935671925544739),\n",
            " ('scientist', 0.580814003944397),\n",
            " ('science', 0.5772112607955933),\n",
            " ('economics', 0.5741971731185913),\n",
            " ('prof.', 0.5630016922950745),\n",
            " ('sociology', 0.5622298121452332),\n",
            " ('associate', 0.5617411136627197),\n",
            " ('physics', 0.5514646768569946)]\n"
          ]
        }
      ]
    },
    {
      "cell_type": "code",
      "source": [],
      "metadata": {
        "id": "vUeDyVTEdBbF"
      },
      "execution_count": null,
      "outputs": []
    }
  ],
  "metadata": {
    "colab": {
      "provenance": []
    },
    "kernelspec": {
      "display_name": "Python 3",
      "name": "python3"
    },
    "language_info": {
      "name": "python",
      "version": "3.10.6"
    }
  },
  "nbformat": 4,
  "nbformat_minor": 0
}